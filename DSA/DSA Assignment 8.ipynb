{
 "cells": [
  {
   "cell_type": "code",
   "execution_count": 1,
   "id": "754470d9-2607-4aa8-876c-2c8e0cccf472",
   "metadata": {},
   "outputs": [
    {
     "name": "stdout",
     "output_type": "stream",
     "text": [
      "231\n"
     ]
    }
   ],
   "source": [
    "def minimumDeleteSum(s1, s2):\n",
    "    def helper(i, j):\n",
    "        if i == 0 and j == 0:\n",
    "            return 0\n",
    "        elif i == 0:\n",
    "            return helper(i, j - 1) + ord(s2[j - 1])\n",
    "        elif j == 0:\n",
    "            return helper(i - 1, j) + ord(s1[i - 1])\n",
    "        elif s1[i - 1] == s2[j - 1]:\n",
    "            return helper(i - 1, j - 1)\n",
    "        else:\n",
    "            return min(helper(i - 1, j) + ord(s1[i - 1]), helper(i, j - 1) + ord(s2[j - 1]))\n",
    "    return helper(len(s1), len(s2))\n",
    "s1 = \"sea\"\n",
    "s2 = \"eat\"\n",
    "print(minimumDeleteSum(s1, s2))"
   ]
  },
  {
   "cell_type": "code",
   "execution_count": 2,
   "id": "a1b1de44-a450-4f11-bb14-aba52867cf97",
   "metadata": {},
   "outputs": [
    {
     "name": "stdout",
     "output_type": "stream",
     "text": [
      "True\n"
     ]
    }
   ],
   "source": [
    "def isValid(s):\n",
    "    def helper(s, i, stack):\n",
    "        if i == len(s):\n",
    "            return len(stack) == 0\n",
    "        if s[i] == '(':\n",
    "            return helper(s, i + 1, stack + ['('])\n",
    "        elif s[i] == ')':\n",
    "            if len(stack) > 0 and stack[-1] == '(':\n",
    "                return helper(s, i + 1, stack[:-1])\n",
    "            else:\n",
    "                return False\n",
    "        elif s[i] == '*':\n",
    "            if helper(s, i + 1, stack):\n",
    "                return True\n",
    "            if helper(s, i + 1, stack + ['(']):\n",
    "                return True\n",
    "            if len(stack) > 0 and stack[-1] == '(' and helper(s, i + 1, stack[:-1]):\n",
    "                return True\n",
    "        return False\n",
    "    return helper(s, 0, [])\n",
    "s = \"()\"\n",
    "print(isValid(s))"
   ]
  },
  {
   "cell_type": "code",
   "execution_count": 3,
   "id": "12916c34-a0b5-4d0d-ad8d-40f562cc0977",
   "metadata": {},
   "outputs": [
    {
     "name": "stdout",
     "output_type": "stream",
     "text": [
      "2\n"
     ]
    }
   ],
   "source": [
    "def minDistance(word1, word2):\n",
    "    def helper(i, j):\n",
    "        if i == len(word1):\n",
    "            return len(word2) - j\n",
    "        if j == len(word2):\n",
    "            return len(word1) - i\n",
    "        if word1[i] == word2[j]:\n",
    "            return helper(i + 1, j + 1)\n",
    "        else:\n",
    "            delete1 = helper(i + 1, j) + 1\n",
    "            delete2 = helper(i, j + 1) + 1\n",
    "            return min(delete1, delete2)\n",
    "    return helper(0, 0)\n",
    "word1 = \"sea\"\n",
    "word2 = \"eat\"\n",
    "print(minDistance(word1, word2))"
   ]
  },
  {
   "cell_type": "code",
   "execution_count": 4,
   "id": "79889ee8-9493-455c-a8ba-fc420ae59c89",
   "metadata": {},
   "outputs": [
    {
     "name": "stdout",
     "output_type": "stream",
     "text": [
      "[4, 2, 3, 1, 6, 5]\n"
     ]
    }
   ],
   "source": [
    "class TreeNode:\n",
    "    def __init__(self, val=0, left=None, right=None):\n",
    "        self.val = val\n",
    "        self.left = left\n",
    "        self.right = right\n",
    "def str2tree(s):\n",
    "    if not s:\n",
    "        return None\n",
    "    def build_tree(s, start, end):\n",
    "        if start > end:\n",
    "            return None\n",
    "        root_val = \"\"\n",
    "        i = start\n",
    "        while i <= end and s[i] not in ['(', ')']:\n",
    "            root_val += s[i]\n",
    "            i += 1\n",
    "        root = TreeNode(int(root_val))\n",
    "        if i <= end and s[i] == '(':\n",
    "            count = 0\n",
    "            j = i\n",
    "            while j <= end:\n",
    "                if s[j] == '(':\n",
    "                    count += 1\n",
    "                elif s[j] == ')':\n",
    "                    count -= 1\n",
    "                if count == 0:\n",
    "                    break\n",
    "                j += 1\n",
    "            root.left = build_tree(s, i + 1, j - 1)\n",
    "            i = j\n",
    "        if i + 1 <= end and s[i + 1] == '(':\n",
    "            root.right = build_tree(s, i + 2, end - 1)\n",
    "        return root\n",
    "    return build_tree(s, 0, len(s) - 1)\n",
    "def tree_to_list(root):\n",
    "    if root is None:\n",
    "        return []\n",
    "    return [root.val] + tree_to_list(root.left) + tree_to_list(root.right)\n",
    "s = \"4(2(3)(1))(6(5))\"\n",
    "tree = str2tree(s)\n",
    "result = tree_to_list(tree)\n",
    "print(result)"
   ]
  },
  {
   "cell_type": "code",
   "execution_count": 5,
   "id": "9ff83fa5-69dc-42fb-b112-b7fc4a9d8a15",
   "metadata": {},
   "outputs": [
    {
     "name": "stdout",
     "output_type": "stream",
     "text": [
      "6\n",
      "['a', '2', 'b', '2', 'c', '3']\n"
     ]
    }
   ],
   "source": [
    "def compress(chars):\n",
    "    readPtr = writePtr = 0\n",
    "    count = 1\n",
    "    for i in range(1, len(chars)):\n",
    "        if chars[i] == chars[i-1]:\n",
    "            count += 1\n",
    "        else:\n",
    "            chars[writePtr] = chars[i-1]\n",
    "            writePtr += 1\n",
    "            if count > 1:\n",
    "                countStr = str(count)\n",
    "                for digit in countStr:\n",
    "                    chars[writePtr] = digit\n",
    "                    writePtr += 1\n",
    "            count = 1\n",
    "    chars[writePtr] = chars[-1]\n",
    "    writePtr += 1\n",
    "    if count > 1:\n",
    "        countStr = str(count)\n",
    "        for digit in countStr:\n",
    "            chars[writePtr] = digit\n",
    "            writePtr += 1\n",
    "    return writePtr\n",
    "chars = [\"a\", \"a\", \"b\", \"b\", \"c\", \"c\", \"c\"]\n",
    "newLength = compress(chars)\n",
    "compressedChars = chars[:newLength]\n",
    "print(newLength)  \n",
    "print(compressedChars)  "
   ]
  },
  {
   "cell_type": "code",
   "execution_count": 6,
   "id": "dd7b68af-d85a-43f5-acb9-1ed056182b3d",
   "metadata": {},
   "outputs": [
    {
     "name": "stdout",
     "output_type": "stream",
     "text": [
      "[0, 6]\n"
     ]
    }
   ],
   "source": [
    "def findAnagrams(s, p):\n",
    "    result = []\n",
    "    def isAnagram(s1, s2):\n",
    "        return sorted(s1) == sorted(s2)\n",
    "    def findAnagramsRecursive(s, p, start):\n",
    "        if start > len(s) - len(p):\n",
    "            return\n",
    "        window = s[start:start+len(p)]\n",
    "        if isAnagram(window, p):\n",
    "            result.append(start)\n",
    "        findAnagramsRecursive(s, p, start+1)\n",
    "    findAnagramsRecursive(s, p, 0)\n",
    "    return result\n",
    "s = \"cbaebabacd\"\n",
    "p = \"abc\"\n",
    "indices = findAnagrams(s, p)\n",
    "print(indices) "
   ]
  },
  {
   "cell_type": "code",
   "execution_count": 7,
   "id": "fd0d358c-b3d2-4659-b312-6bd75972ce57",
   "metadata": {},
   "outputs": [
    {
     "name": "stdout",
     "output_type": "stream",
     "text": [
      "aaabcbc\n"
     ]
    }
   ],
   "source": [
    "def decodeString(s):\n",
    "    stack = []\n",
    "    curr_str = \"\"\n",
    "    curr_num = 0\n",
    "    for char in s:\n",
    "        if char.isdigit():\n",
    "            curr_num = curr_num * 10 + int(char)\n",
    "        elif char == '[':\n",
    "            stack.append(curr_str)\n",
    "            stack.append(curr_num)\n",
    "            curr_str = \"\"\n",
    "            curr_num = 0\n",
    "        elif char == ']':\n",
    "            num = stack.pop()\n",
    "            prev_str = stack.pop()\n",
    "            curr_str = prev_str + num * curr_str\n",
    "        else:\n",
    "            curr_str += char\n",
    "    return curr_str\n",
    "s = \"3[a]2[bc]\"\n",
    "decoded = decodeString(s)\n",
    "print(decoded) "
   ]
  },
  {
   "cell_type": "code",
   "execution_count": 8,
   "id": "1434bdf4-1ee7-41d4-a4fd-2a215aad87d7",
   "metadata": {},
   "outputs": [
    {
     "name": "stdout",
     "output_type": "stream",
     "text": [
      "True\n"
     ]
    }
   ],
   "source": [
    "def canSwap(s, goal):\n",
    "    if len(s) != len(goal):\n",
    "        return False\n",
    "    mismatch_count = 0\n",
    "    mismatch_indices = []\n",
    "    for i in range(len(s)):\n",
    "        if s[i] != goal[i]:\n",
    "            mismatch_count += 1\n",
    "            mismatch_indices.append(i)\n",
    "        if mismatch_count > 2:\n",
    "            return False\n",
    "    return mismatch_count == 2 and s[mismatch_indices[0]] == goal[mismatch_indices[1]] and s[mismatch_indices[1]] == goal[mismatch_indices[0]]\n",
    "s = \"ab\"\n",
    "goal = \"ba\"\n",
    "result = canSwap(s, goal)\n",
    "print(result) "
   ]
  }
 ],
 "metadata": {
  "kernelspec": {
   "display_name": "Python 3 (ipykernel)",
   "language": "python",
   "name": "python3"
  },
  "language_info": {
   "codemirror_mode": {
    "name": "ipython",
    "version": 3
   },
   "file_extension": ".py",
   "mimetype": "text/x-python",
   "name": "python",
   "nbconvert_exporter": "python",
   "pygments_lexer": "ipython3",
   "version": "3.10.8"
  }
 },
 "nbformat": 4,
 "nbformat_minor": 5
}
